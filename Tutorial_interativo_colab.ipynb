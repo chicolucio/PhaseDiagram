{
  "nbformat": 4,
  "nbformat_minor": 0,
  "metadata": {
    "kernelspec": {
      "name": "python3",
      "display_name": "Python 3"
    },
    "colab": {
      "name": "Tutorial_interativo.ipynb",
      "provenance": [],
      "collapsed_sections": [],
      "include_colab_link": true
    },
    "language_info": {
      "name": "python"
    },
    "widgets": {
      "application/vnd.jupyter.widget-state+json": {
        "efe093be2d724518af2d8fd56e415870": {
          "model_module": "@jupyter-widgets/controls",
          "model_name": "ToggleButtonsModel",
          "state": {
            "_options_labels": [
              "H2O",
              "CO2",
              "I2"
            ],
            "_view_name": "ToggleButtonsView",
            "style": "IPY_MODEL_24408625ed2147aab2aaa311ad431fe6",
            "_dom_classes": [],
            "description": "Composto: ",
            "_model_name": "ToggleButtonsModel",
            "tooltips": [],
            "index": 0,
            "button_style": "",
            "_view_module": "@jupyter-widgets/controls",
            "_model_module_version": "1.5.0",
            "_view_count": null,
            "disabled": false,
            "_view_module_version": "1.5.0",
            "icons": [],
            "description_tooltip": null,
            "_model_module": "@jupyter-widgets/controls",
            "layout": "IPY_MODEL_2cd3b6b1b08a4dada820c23b071fcc10"
          }
        },
        "24408625ed2147aab2aaa311ad431fe6": {
          "model_module": "@jupyter-widgets/controls",
          "model_name": "ToggleButtonsStyleModel",
          "state": {
            "_view_name": "StyleView",
            "button_width": "",
            "_model_name": "ToggleButtonsStyleModel",
            "description_width": "",
            "_view_module": "@jupyter-widgets/base",
            "_model_module_version": "1.5.0",
            "_view_count": null,
            "font_weight": "",
            "_view_module_version": "1.2.0",
            "_model_module": "@jupyter-widgets/controls"
          }
        },
        "2cd3b6b1b08a4dada820c23b071fcc10": {
          "model_module": "@jupyter-widgets/base",
          "model_name": "LayoutModel",
          "state": {
            "_view_name": "LayoutView",
            "grid_template_rows": null,
            "right": null,
            "justify_content": null,
            "_view_module": "@jupyter-widgets/base",
            "overflow": null,
            "_model_module_version": "1.2.0",
            "_view_count": null,
            "flex_flow": null,
            "width": null,
            "min_width": null,
            "border": null,
            "align_items": null,
            "bottom": null,
            "_model_module": "@jupyter-widgets/base",
            "top": null,
            "grid_column": null,
            "overflow_y": null,
            "overflow_x": null,
            "grid_auto_flow": null,
            "grid_area": null,
            "grid_template_columns": null,
            "flex": null,
            "_model_name": "LayoutModel",
            "justify_items": null,
            "grid_row": null,
            "max_height": null,
            "align_content": null,
            "visibility": null,
            "align_self": null,
            "height": null,
            "min_height": null,
            "padding": null,
            "grid_auto_rows": null,
            "grid_gap": null,
            "max_width": null,
            "order": null,
            "_view_module_version": "1.2.0",
            "grid_template_areas": null,
            "object_position": null,
            "object_fit": null,
            "grid_auto_columns": null,
            "margin": null,
            "display": null,
            "left": null
          }
        },
        "393702f9e5454aa78db63b8be2d30fe0": {
          "model_module": "@jupyter-widgets/controls",
          "model_name": "VBoxModel",
          "state": {
            "_view_name": "VBoxView",
            "_dom_classes": [
              "widget-interact"
            ],
            "_model_name": "VBoxModel",
            "_view_module": "@jupyter-widgets/controls",
            "_model_module_version": "1.5.0",
            "_view_count": null,
            "_view_module_version": "1.5.0",
            "box_style": "",
            "layout": "IPY_MODEL_dbc953247d114a5eb7811fafbf2896b1",
            "_model_module": "@jupyter-widgets/controls",
            "children": [
              "IPY_MODEL_05bf9a6937c545dbb26f6896eb636de0",
              "IPY_MODEL_15cf43f34d984d9fadcc0596f09eaf56",
              "IPY_MODEL_9c39df80b5ae4698abd1df66a89e3c36"
            ]
          }
        },
        "dbc953247d114a5eb7811fafbf2896b1": {
          "model_module": "@jupyter-widgets/base",
          "model_name": "LayoutModel",
          "state": {
            "_view_name": "LayoutView",
            "grid_template_rows": null,
            "right": null,
            "justify_content": null,
            "_view_module": "@jupyter-widgets/base",
            "overflow": null,
            "_model_module_version": "1.2.0",
            "_view_count": null,
            "flex_flow": null,
            "width": null,
            "min_width": null,
            "border": null,
            "align_items": null,
            "bottom": null,
            "_model_module": "@jupyter-widgets/base",
            "top": null,
            "grid_column": null,
            "overflow_y": null,
            "overflow_x": null,
            "grid_auto_flow": null,
            "grid_area": null,
            "grid_template_columns": null,
            "flex": null,
            "_model_name": "LayoutModel",
            "justify_items": null,
            "grid_row": null,
            "max_height": null,
            "align_content": null,
            "visibility": null,
            "align_self": null,
            "height": null,
            "min_height": null,
            "padding": null,
            "grid_auto_rows": null,
            "grid_gap": null,
            "max_width": null,
            "order": null,
            "_view_module_version": "1.2.0",
            "grid_template_areas": null,
            "object_position": null,
            "object_fit": null,
            "grid_auto_columns": null,
            "margin": null,
            "display": null,
            "left": null
          }
        },
        "05bf9a6937c545dbb26f6896eb636de0": {
          "model_module": "@jupyter-widgets/controls",
          "model_name": "FloatSliderModel",
          "state": {
            "_view_name": "FloatSliderView",
            "style": "IPY_MODEL_78d449a0d1b04539a9482222933a61ef",
            "_dom_classes": [],
            "description": "Temperatura / K:",
            "step": 50,
            "_model_name": "FloatSliderModel",
            "orientation": "horizontal",
            "max": 670,
            "_view_module": "@jupyter-widgets/controls",
            "_model_module_version": "1.5.0",
            "value": 230,
            "_view_count": null,
            "disabled": false,
            "_view_module_version": "1.5.0",
            "min": 210,
            "continuous_update": false,
            "readout_format": ".2f",
            "description_tooltip": null,
            "readout": true,
            "_model_module": "@jupyter-widgets/controls",
            "layout": "IPY_MODEL_935e42524eff415d9932d07dca8be147"
          }
        },
        "15cf43f34d984d9fadcc0596f09eaf56": {
          "model_module": "@jupyter-widgets/controls",
          "model_name": "FloatLogSliderModel",
          "state": {
            "_view_name": "FloatLogSliderView",
            "orientation": "horizontal",
            "_view_module": "@jupyter-widgets/controls",
            "_model_module_version": "1.5.0",
            "_view_count": null,
            "disabled": false,
            "readout_format": ".1e",
            "_model_module": "@jupyter-widgets/controls",
            "style": "IPY_MODEL_b305c8d5d6bd4483b0d56bb75ba44c88",
            "layout": "IPY_MODEL_33c8e616a2d54452bddf68559caf8126",
            "min": 1,
            "continuous_update": false,
            "description_tooltip": null,
            "_dom_classes": [],
            "description": "Pressão / Pa:",
            "_model_name": "FloatLogSliderModel",
            "max": 8,
            "readout": true,
            "step": 1,
            "base": 10,
            "value": 100000,
            "_view_module_version": "1.5.0"
          }
        },
        "9c39df80b5ae4698abd1df66a89e3c36": {
          "model_module": "@jupyter-widgets/output",
          "model_name": "OutputModel",
          "state": {
            "_view_name": "OutputView",
            "msg_id": "",
            "_dom_classes": [],
            "_model_name": "OutputModel",
            "outputs": [
              {
                "output_type": "display_data",
                "metadata": {
                  "tags": []
                },
                "image/png": "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\n",
                "text/plain": "<Figure size 720x576 with 1 Axes>"
              }
            ],
            "_view_module": "@jupyter-widgets/output",
            "_model_module_version": "1.0.0",
            "_view_count": null,
            "_view_module_version": "1.0.0",
            "layout": "IPY_MODEL_adc32bc527ed4270938c1b625b25a1ae",
            "_model_module": "@jupyter-widgets/output"
          }
        },
        "78d449a0d1b04539a9482222933a61ef": {
          "model_module": "@jupyter-widgets/controls",
          "model_name": "SliderStyleModel",
          "state": {
            "_view_name": "StyleView",
            "handle_color": null,
            "_model_name": "SliderStyleModel",
            "description_width": "initial",
            "_view_module": "@jupyter-widgets/base",
            "_model_module_version": "1.5.0",
            "_view_count": null,
            "_view_module_version": "1.2.0",
            "_model_module": "@jupyter-widgets/controls"
          }
        },
        "935e42524eff415d9932d07dca8be147": {
          "model_module": "@jupyter-widgets/base",
          "model_name": "LayoutModel",
          "state": {
            "_view_name": "LayoutView",
            "grid_template_rows": null,
            "right": null,
            "justify_content": null,
            "_view_module": "@jupyter-widgets/base",
            "overflow": null,
            "_model_module_version": "1.2.0",
            "_view_count": null,
            "flex_flow": null,
            "width": null,
            "min_width": null,
            "border": null,
            "align_items": null,
            "bottom": null,
            "_model_module": "@jupyter-widgets/base",
            "top": null,
            "grid_column": null,
            "overflow_y": null,
            "overflow_x": null,
            "grid_auto_flow": null,
            "grid_area": null,
            "grid_template_columns": null,
            "flex": null,
            "_model_name": "LayoutModel",
            "justify_items": null,
            "grid_row": null,
            "max_height": null,
            "align_content": null,
            "visibility": null,
            "align_self": null,
            "height": null,
            "min_height": null,
            "padding": null,
            "grid_auto_rows": null,
            "grid_gap": null,
            "max_width": null,
            "order": null,
            "_view_module_version": "1.2.0",
            "grid_template_areas": null,
            "object_position": null,
            "object_fit": null,
            "grid_auto_columns": null,
            "margin": null,
            "display": null,
            "left": null
          }
        },
        "b305c8d5d6bd4483b0d56bb75ba44c88": {
          "model_module": "@jupyter-widgets/controls",
          "model_name": "SliderStyleModel",
          "state": {
            "_view_name": "StyleView",
            "handle_color": null,
            "_model_name": "SliderStyleModel",
            "description_width": "initial",
            "_view_module": "@jupyter-widgets/base",
            "_model_module_version": "1.5.0",
            "_view_count": null,
            "_view_module_version": "1.2.0",
            "_model_module": "@jupyter-widgets/controls"
          }
        },
        "33c8e616a2d54452bddf68559caf8126": {
          "model_module": "@jupyter-widgets/base",
          "model_name": "LayoutModel",
          "state": {
            "_view_name": "LayoutView",
            "grid_template_rows": null,
            "right": null,
            "justify_content": null,
            "_view_module": "@jupyter-widgets/base",
            "overflow": null,
            "_model_module_version": "1.2.0",
            "_view_count": null,
            "flex_flow": null,
            "width": null,
            "min_width": null,
            "border": null,
            "align_items": null,
            "bottom": null,
            "_model_module": "@jupyter-widgets/base",
            "top": null,
            "grid_column": null,
            "overflow_y": null,
            "overflow_x": null,
            "grid_auto_flow": null,
            "grid_area": null,
            "grid_template_columns": null,
            "flex": null,
            "_model_name": "LayoutModel",
            "justify_items": null,
            "grid_row": null,
            "max_height": null,
            "align_content": null,
            "visibility": null,
            "align_self": null,
            "height": null,
            "min_height": null,
            "padding": null,
            "grid_auto_rows": null,
            "grid_gap": null,
            "max_width": null,
            "order": null,
            "_view_module_version": "1.2.0",
            "grid_template_areas": null,
            "object_position": null,
            "object_fit": null,
            "grid_auto_columns": null,
            "margin": null,
            "display": null,
            "left": null
          }
        },
        "adc32bc527ed4270938c1b625b25a1ae": {
          "model_module": "@jupyter-widgets/base",
          "model_name": "LayoutModel",
          "state": {
            "_view_name": "LayoutView",
            "grid_template_rows": null,
            "right": null,
            "justify_content": null,
            "_view_module": "@jupyter-widgets/base",
            "overflow": null,
            "_model_module_version": "1.2.0",
            "_view_count": null,
            "flex_flow": null,
            "width": null,
            "min_width": null,
            "border": null,
            "align_items": null,
            "bottom": null,
            "_model_module": "@jupyter-widgets/base",
            "top": null,
            "grid_column": null,
            "overflow_y": null,
            "overflow_x": null,
            "grid_auto_flow": null,
            "grid_area": null,
            "grid_template_columns": null,
            "flex": null,
            "_model_name": "LayoutModel",
            "justify_items": null,
            "grid_row": null,
            "max_height": null,
            "align_content": null,
            "visibility": null,
            "align_self": null,
            "height": null,
            "min_height": null,
            "padding": null,
            "grid_auto_rows": null,
            "grid_gap": null,
            "max_width": null,
            "order": null,
            "_view_module_version": "1.2.0",
            "grid_template_areas": null,
            "object_position": null,
            "object_fit": null,
            "grid_auto_columns": null,
            "margin": null,
            "display": null,
            "left": null
          }
        }
      }
    }
  },
  "cells": [
    {
      "cell_type": "markdown",
      "metadata": {
        "id": "view-in-github",
        "colab_type": "text"
      },
      "source": [
        "<a href=\"https://colab.research.google.com/github/chicolucio/PhaseDiagram/blob/master/Tutorial_interativo_colab.ipynb\" target=\"_parent\"><img src=\"https://colab.research.google.com/assets/colab-badge.svg\" alt=\"Open In Colab\"/></a>"
      ]
    },
    {
      "cell_type": "markdown",
      "metadata": {
        "id": "6tK7qRwUERP1"
      },
      "source": [
        "## Tutorial interativo"
      ]
    },
    {
      "cell_type": "code",
      "metadata": {
        "colab": {
          "base_uri": "https://localhost:8080/",
          "height": 50,
          "referenced_widgets": [
            "efe093be2d724518af2d8fd56e415870",
            "24408625ed2147aab2aaa311ad431fe6",
            "2cd3b6b1b08a4dada820c23b071fcc10"
          ]
        },
        "id": "fD1zrJSLERP4",
        "cellView": "form",
        "outputId": "8e328658-708c-4f78-a37c-942487807327"
      },
      "source": [
        "#@title {run: 'auto'}\n",
        "#@markdown ### Clique na seta e espere carregar\n",
        "\n",
        "!git clone https://github.com/chicolucio/PhaseDiagram &> /dev/null\n",
        "!pip install pint &> /dev/null\n",
        "%cd -q PhaseDiagram\n",
        "\n",
        "from phase_diagram.phase_diagram import PhaseDiagram, ureg\n",
        "from ipywidgets import interact, interactive\n",
        "import ipywidgets\n",
        "import matplotlib.pyplot as plt\n",
        "from src.plot import Plot\n",
        "from IPython.display import display\n",
        "\n",
        "compound = ipywidgets.ToggleButtons(\n",
        "    options=['H2O', 'CO2', 'I2'],\n",
        "    description='Composto: ',\n",
        "    disabled=False,\n",
        "    button_style='')\n",
        "\n",
        "display(compound)"
      ],
      "execution_count": null,
      "outputs": [
        {
          "output_type": "display_data",
          "data": {
            "application/vnd.jupyter.widget-view+json": {
              "model_id": "efe093be2d724518af2d8fd56e415870",
              "version_minor": 0,
              "version_major": 2
            },
            "text/plain": [
              "ToggleButtons(description='Composto: ', options=('H2O', 'CO2', 'I2'), value='H2O')"
            ]
          },
          "metadata": {
            "tags": []
          }
        }
      ]
    },
    {
      "cell_type": "code",
      "metadata": {
        "colab": {
          "base_uri": "https://localhost:8080/",
          "height": 572,
          "referenced_widgets": [
            "393702f9e5454aa78db63b8be2d30fe0",
            "dbc953247d114a5eb7811fafbf2896b1",
            "05bf9a6937c545dbb26f6896eb636de0",
            "15cf43f34d984d9fadcc0596f09eaf56",
            "9c39df80b5ae4698abd1df66a89e3c36",
            "78d449a0d1b04539a9482222933a61ef",
            "935e42524eff415d9932d07dca8be147",
            "b305c8d5d6bd4483b0d56bb75ba44c88",
            "33c8e616a2d54452bddf68559caf8126",
            "adc32bc527ed4270938c1b625b25a1ae"
          ]
        },
        "id": "fLxjl2oJERP_",
        "cellView": "form",
        "outputId": "115d8480-6d7e-41e1-9bc3-b8452dc33c9f"
      },
      "source": [
        "#@title {run: 'auto'}\n",
        "#@markdown ### Após escolher o composto, clique na seta e espere o gráfico aparecer\n",
        "\n",
        "instance = PhaseDiagram(compound.value)\n",
        "temperatura_minima = round(min(instance.clapeyron_sv()[0]).magnitude, -1)\n",
        "temperatura_maxima = round(instance.critical_point.temperature.magnitude, -1)\n",
        "\n",
        "style = {'description_width': 'initial'}\n",
        "\n",
        "\n",
        "temperatura = ipywidgets.FloatSlider(\n",
        "    value=temperatura_minima + 20,\n",
        "    min=temperatura_minima,\n",
        "    max=temperatura_maxima + 20,\n",
        "    step=50,\n",
        "    description='Temperatura / K:',\n",
        "    disabled=False,\n",
        "    continuous_update=False,\n",
        "    orientation='horizontal',\n",
        "    readout=True,\n",
        "    readout_format='.2f',\n",
        "    style=style)\n",
        "\n",
        "pressao = ipywidgets.FloatLogSlider(\n",
        "    value=10**5,\n",
        "    base=10,\n",
        "    min=1,\n",
        "    max=8,\n",
        "    step=1,\n",
        "    description='Pressão / Pa:',\n",
        "    disabled=False,\n",
        "    continuous_update=False,\n",
        "    orientation='horizontal',\n",
        "    readout=True,\n",
        "    readout_format='.1e',\n",
        "    style=style)\n",
        "\n",
        "# display(temperatura, pressao)\n",
        "\n",
        "\n",
        "def funcao_com_estado_fisico(temperatura, pressao):\n",
        "    fig, ax = plt.subplots(figsize=(10, 8), facecolor=(1, 1, 1))\n",
        "    \n",
        "    estado_fisico = instance.physical_state([temperatura * instance.ureg('K'),\n",
        "                                  pressao * instance.ureg('Pa')])    \n",
        "    instance.plot(ax=plt.gca(), scale_log=True)\n",
        "    a = Plot(x_unit='K', y_unit='Pa', ax=plt.gca(),  x_label='Temperatura',\n",
        "             y_label='Pressão', legend=True, scale_log=True)\n",
        "    a.plot_point([temperatura * instance.ureg('K'), pressao * instance.ureg('Pa')],\n",
        "                 zorder=3, s=100, c='black', label=estado_fisico)\n",
        "    plt.gca().annotate(estado_fisico, (temperatura, pressao), fontsize=24, ha='left',\n",
        "                       va='top', color='red')\n",
        "    \n",
        "   \n",
        "graph = interactive(funcao_com_estado_fisico,\n",
        "                    temperatura=temperatura,\n",
        "                    pressao=pressao,\n",
        "                   )\n",
        "display(graph)"
      ],
      "execution_count": null,
      "outputs": [
        {
          "output_type": "display_data",
          "data": {
            "application/vnd.jupyter.widget-view+json": {
              "model_id": "393702f9e5454aa78db63b8be2d30fe0",
              "version_minor": 0,
              "version_major": 2
            },
            "text/plain": [
              "interactive(children=(FloatSlider(value=230.0, continuous_update=False, description='Temperatura / K:', max=67…"
            ]
          },
          "metadata": {
            "tags": []
          }
        }
      ]
    },
    {
      "cell_type": "code",
      "metadata": {
        "id": "5q3NcYWUOYpc"
      },
      "source": [
        ""
      ],
      "execution_count": null,
      "outputs": []
    }
  ]
}