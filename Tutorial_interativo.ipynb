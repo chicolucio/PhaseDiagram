{
 "cells": [
  {
   "cell_type": "markdown",
   "metadata": {},
   "source": [
    "## Tutorial interativo"
   ]
  },
  {
   "cell_type": "markdown",
   "metadata": {},
   "source": [
    "O pacote `PhaseDiagram` em conjunto com o pacote [ipywidgets](https://ipywidgets.readthedocs.io/en/latest/) são capazes de fazer gráficos interativos, de forma a facilitar o entendimento dos diagramas de fases. Com essa união somos capazes de criar diagramas de fases com pontos que podem se locomover atráves do gráfico e até mesmo sabermos o estado físico da zona onde o ponto está em forma de texto. Mostraremos isso a seguir."
   ]
  },
  {
   "cell_type": "markdown",
   "metadata": {},
   "source": [
    "Primeiro, vamos importar os pacotes necessários."
   ]
  },
  {
   "cell_type": "code",
   "execution_count": 1,
   "metadata": {},
   "outputs": [],
   "source": [
    "from phase_diagram.phase_diagram import PhaseDiagram, ureg\n",
    "from ipywidgets import interact, interactive\n",
    "import ipywidgets\n",
    "import matplotlib.pyplot as plt\n",
    "from src.plot import Plot\n",
    "from IPython.display import display"
   ]
  },
  {
   "cell_type": "code",
   "execution_count": 2,
   "metadata": {},
   "outputs": [],
   "source": [
    "Q_ = ureg.Quantity"
   ]
  },
  {
   "cell_type": "code",
   "execution_count": 3,
   "metadata": {},
   "outputs": [],
   "source": [
    "water = PhaseDiagram('water')"
   ]
  },
  {
   "cell_type": "markdown",
   "metadata": {},
   "source": [
    "O pacote [ipywidgets](https://ipywidgets.readthedocs.io/en/latest/index.html) pode criar variados tipois de interações, vejamos o básico das que usaremos em nosso gráfico."
   ]
  },
  {
   "cell_type": "markdown",
   "metadata": {},
   "source": [
    "## Barras deslizantes / controles deslizantes"
   ]
  },
  {
   "cell_type": "markdown",
   "metadata": {},
   "source": [
    "Uma barra deslizantes/controle delizantes, mais conhecido como slider, é um widget que poderá ser variado em um limite predeterminado. Vamos a um exemplo simples"
   ]
  },
  {
   "cell_type": "code",
   "execution_count": 4,
   "metadata": {},
   "outputs": [
    {
     "data": {
      "application/vnd.jupyter.widget-view+json": {
       "model_id": "4a66c29cf4154d6faf41799ae21b2a98",
       "version_major": 2,
       "version_minor": 0
      },
      "text/plain": [
       "FloatSlider(value=0.0)"
      ]
     },
     "metadata": {},
     "output_type": "display_data"
    }
   ],
   "source": [
    "ipywidgets.FloatSlider()"
   ]
  },
  {
   "cell_type": "markdown",
   "metadata": {},
   "source": [
    "Por padrão, se nenhum valor for passado, os limites serão de 0 a 100. Também é possível que o widget seja passado a um objeto, ai usaremos o `display`"
   ]
  },
  {
   "cell_type": "code",
   "execution_count": 5,
   "metadata": {},
   "outputs": [],
   "source": [
    "objeto = ipywidgets.FloatSlider()"
   ]
  },
  {
   "cell_type": "code",
   "execution_count": 6,
   "metadata": {},
   "outputs": [
    {
     "data": {
      "application/vnd.jupyter.widget-view+json": {
       "model_id": "fa2de006fb634c1b9204f00ce5aa9795",
       "version_major": 2,
       "version_minor": 0
      },
      "text/plain": [
       "FloatSlider(value=0.0)"
      ]
     },
     "metadata": {},
     "output_type": "display_data"
    }
   ],
   "source": [
    "display(objeto)"
   ]
  },
  {
   "cell_type": "markdown",
   "metadata": {},
   "source": [
    "Os widgets criados foram os mais simples possíveis, porém é possível personalizarmos eles. Nesse [link](https://ipywidgets.readthedocs.io/en/latest/examples/Widget%20List.html?highlight=floatslider) é póssível ver outros tipos de padrão para criação de widgets como também é possível ver os parâmetros que podem ser passados neles.\n",
    "\n",
    "Vamos a um exemplo mais completo, personalizando alguns parâmetros."
   ]
  },
  {
   "cell_type": "code",
   "execution_count": 7,
   "metadata": {},
   "outputs": [
    {
     "data": {
      "application/vnd.jupyter.widget-view+json": {
       "model_id": "094eca58ee524b5881f401e271990f35",
       "version_major": 2,
       "version_minor": 0
      },
      "text/plain": [
       "FloatSlider(value=273.0, continuous_update=False, description='Temperatura / K:', max=700.0, min=200.0, step=5…"
      ]
     },
     "metadata": {},
     "output_type": "display_data"
    },
    {
     "data": {
      "application/vnd.jupyter.widget-view+json": {
       "model_id": "6e428179db03476d97344c4cbcd8b3ff",
       "version_major": 2,
       "version_minor": 0
      },
      "text/plain": [
       "FloatLogSlider(value=100000.0, continuous_update=False, description='Pressão / Pa:', max=8.0, min=1.0, readout…"
      ]
     },
     "metadata": {},
     "output_type": "display_data"
    }
   ],
   "source": [
    "style = {'description_width': 'initial'}\n",
    "\n",
    "\n",
    "temperatura = ipywidgets.FloatSlider(\n",
    "    value=273,\n",
    "    min=200,\n",
    "    max=700,\n",
    "    step=50,\n",
    "    description='Temperatura / K:',\n",
    "    disabled=False,\n",
    "    continuous_update=False,\n",
    "    orientation='horizontal',\n",
    "    readout=True,\n",
    "    readout_format='.2f',\n",
    "    style=style)\n",
    "\n",
    "pressao = ipywidgets.FloatLogSlider(\n",
    "    value=10**5,\n",
    "    base=10,\n",
    "    min=1,\n",
    "    max=8,\n",
    "    step=1,\n",
    "    description='Pressão / Pa:',\n",
    "    disabled=False,\n",
    "    continuous_update=False,\n",
    "    orientation='horizontal',\n",
    "    readout=True,\n",
    "    readout_format='.1e',\n",
    "    style=style)\n",
    "\n",
    "display(temperatura, pressao)"
   ]
  },
  {
   "cell_type": "markdown",
   "metadata": {},
   "source": [
    "Descreveremos brevemente os parâmetros usados nesse tutorial.\n",
    "\n",
    "* `value`: valor inicial do slider \n",
    "* `base` : base usada quando usado no `FloatLogSlider`\n",
    "* `min` e `max`: valores dos limites mínimo e máximo\n",
    "* `step`: unidades que terá que deslocar até o próximo ponto\n",
    "* `description`: descrição do slider\n",
    "* `disabled`: desativa o slider. Se o parâmetro for passado como `True`, o slider não se moverá, ficando apenas no valor inicial.\n",
    "* `orientation`: orientação do slider\n",
    "* `readout`: exibe o valor atual do slider. Se for `False` não exibirá nada\n",
    "* `readout_format`: formato usado para representar o valor atual do slider"
   ]
  },
  {
   "cell_type": "markdown",
   "metadata": {},
   "source": [
    "Bom, vimos como criamos widgets. Agora veremos como aplicá-los em nossos gráficos"
   ]
  },
  {
   "cell_type": "markdown",
   "metadata": {},
   "source": [
    "## Gráficos interativos"
   ]
  },
  {
   "cell_type": "markdown",
   "metadata": {},
   "source": [
    "Os widgets servirão em nosso gráfico para movimentar um ponto. Isso facilitará a compreensão para pessoas que tem dificuldade em entender os estados físicos do diagrama de fases.\n",
    "\n",
    "Vamos a um exemplo"
   ]
  },
  {
   "cell_type": "code",
   "execution_count": 8,
   "metadata": {},
   "outputs": [
    {
     "data": {
      "application/vnd.jupyter.widget-view+json": {
       "model_id": "42a883cbdaae4b4cb54d04e131435eb9",
       "version_major": 2,
       "version_minor": 0
      },
      "text/plain": [
       "interactive(children=(FloatSlider(value=273.0, continuous_update=False, description='Temperatura / K:', max=70…"
      ]
     },
     "metadata": {},
     "output_type": "display_data"
    }
   ],
   "source": [
    "def funcao_sem_estado_fisico(temperatura, pressao):\n",
    "    fig, ax = plt.subplots(figsize=(10, 8))\n",
    "    \n",
    "    water.plot(ax=plt.gca(), scale_log=False)\n",
    "    ponto = Plot(x_unit='K', y_unit='Pa', ax=plt.gca(),  x_label='Temperatura',\n",
    "                 y_label='Pressão', legend=True, scale_log=False)\n",
    "    ponto.plot_point([temperatura * water.ureg('K'), pressao * water.ureg('Pa')],\n",
    "                  zorder=3, s=100, c='black', label='Meu ponto')\n",
    "\n",
    "    \n",
    "\n",
    "graph = interactive(funcao_sem_estado_fisico,\n",
    "                    temperatura=temperatura,\n",
    "                    pressao=pressao,\n",
    "                   )\n",
    "\n",
    "display(graph)"
   ]
  },
  {
   "cell_type": "markdown",
   "metadata": {},
   "source": [
    "Nesse exemplo pegamos um ponto que criamos usando a classe `Plot` do pacote PhaseDiagram e passamos dentro de `interactive`. Para `interactive` passamos o valor da função criada e os parâmetros que queremos que seja interativo, que nesse caso é temperatura e pressão. O nosso resultado é um gráfico com um ponto capaz de se movimentar por todo o gráfico.\n",
    "\n",
    "Nós podemos fazer algumas personalizações nesse ponto, como mudar sua cor, aumentar seu diâmetro, etc."
   ]
  },
  {
   "cell_type": "markdown",
   "metadata": {},
   "source": [
    "O gráfico anterior pode ser melhorado, pois podemos fazer com que o estado físico onde o ponto estiver seja demonstrado na tela. Isso pode facilitar muito a compreensão.\n",
    "\n",
    "Vamos a um exemplo."
   ]
  },
  {
   "cell_type": "code",
   "execution_count": 9,
   "metadata": {},
   "outputs": [
    {
     "data": {
      "application/vnd.jupyter.widget-view+json": {
       "model_id": "7c74cf6adfea4bd39ee06393e0dd08fd",
       "version_major": 2,
       "version_minor": 0
      },
      "text/plain": [
       "interactive(children=(FloatSlider(value=273.0, continuous_update=False, description='Temperatura / K:', max=70…"
      ]
     },
     "metadata": {},
     "output_type": "display_data"
    }
   ],
   "source": [
    "def funcao_com_estado_fisico(temperatura, pressao):\n",
    "    fig, ax = plt.subplots(figsize=(10, 8), facecolor=(1, 1, 1))\n",
    "    \n",
    "    estado_fisico = water.physical_state([temperatura * water.ureg('K'),\n",
    "                                  pressao * water.ureg('Pa')])    \n",
    "    water.plot(ax=plt.gca(), scale_log=True)\n",
    "    a = Plot(x_unit='K', y_unit='Pa', ax=plt.gca(),  x_label='Temperatura',\n",
    "             y_label='Pressão', legend=True, scale_log=True)\n",
    "    a.plot_point([temperatura * water.ureg('K'), pressao * water.ureg('Pa')],\n",
    "                 zorder=3, s=100, c='black', label=estado_fisico)\n",
    "    plt.gca().annotate(estado_fisico, (temperatura, pressao), fontsize=24, ha='left',\n",
    "                       va='top', color='red')\n",
    "    \n",
    "    \n",
    "\n",
    "    \n",
    "graph = interactive(funcao_com_estado_fisico,\n",
    "                    temperatura=temperatura,\n",
    "                    pressao=pressao,\n",
    "                   )\n",
    "display(graph)"
   ]
  },
  {
   "cell_type": "code",
   "execution_count": null,
   "metadata": {},
   "outputs": [],
   "source": []
  }
 ],
 "metadata": {
  "kernelspec": {
   "display_name": "PhaseDiagram",
   "language": "python",
   "name": "phasediagram"
  },
  "language_info": {
   "codemirror_mode": {
    "name": "ipython",
    "version": 3
   },
   "file_extension": ".py",
   "mimetype": "text/x-python",
   "name": "python",
   "nbconvert_exporter": "python",
   "pygments_lexer": "ipython3",
   "version": "3.8.5"
  }
 },
 "nbformat": 4,
 "nbformat_minor": 4
}
